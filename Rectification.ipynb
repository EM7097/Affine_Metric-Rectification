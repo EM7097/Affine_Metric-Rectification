{
 "cells": [
  {
   "cell_type": "code",
   "execution_count": 3,
   "metadata": {},
   "outputs": [
    {
     "name": "stdout",
     "output_type": "stream",
     "text": [
      "164 273\n",
      "255 205\n",
      "256 357\n",
      "349 270\n",
      "165 273\n",
      "90 209\n",
      "257 204\n",
      "180 152\n"
     ]
    },
    {
     "data": {
      "text/plain": [
       "-1"
      ]
     },
     "execution_count": 3,
     "metadata": {},
     "output_type": "execute_result"
    }
   ],
   "source": [
    "### Author: Aditya Jain ###\n",
    "### Topic: CV Assignment 2, Affine and Metrix Rectification ###\n",
    "### Start Date: 25th March, 2018 ###\n",
    "import cv2\n",
    "import numpy as np\n",
    "from matplotlib import pyplot as plt\n",
    "from math import sqrt, pi, sin, cos, tan\n",
    "from __future__ import division\n",
    "\n",
    "# originalImage = cv2.imread('floor.jpg')\n",
    "img = cv2.imread('floor.jpg')\n",
    "gray = cv2.cvtColor(img,cv2.COLOR_BGR2GRAY)\n",
    "\n",
    "list1 = []      # separate lists to store the coordinates for the separate lines\n",
    "list2 = []\n",
    "check = 0       # variable to switch between the lists\n",
    "\n",
    "def getPoints(event, x, y, flags, params):\n",
    "    \n",
    "    global list1, list2, check    \n",
    "   \n",
    "    if event == cv2.EVENT_LBUTTONDOWN:\n",
    "        print x,y\n",
    "        if check < 4:\n",
    "            list1.append([x, y])\n",
    "            check += 1\n",
    "        else:\n",
    "            list2.append([x, y])\n",
    "    elif event == cv2.EVENT_LBUTTONUP:                   \n",
    "        cv2.circle(img,(x,y), 4, (0,255,0), -1)\n",
    "        cv2.imshow(\"image\", img)\n",
    "\n",
    "    \n",
    "cv2.namedWindow(\"image\")\n",
    "cv2.setMouseCallback(\"image\", getPoints)\n",
    "\n",
    "def selectPoints():\n",
    "    global check\n",
    "    while True:\n",
    "        cv2.imshow(\"image\", img)\n",
    "        key = cv2.waitKey(1) & 0xFF        \n",
    "        \n",
    "        if key == ord(\"q\"):\n",
    "            break\n",
    "#         elif check == 7:\n",
    "#             break\n",
    "        \n",
    "selectPoints()\n",
    "cv2.destroyAllWindows()\n",
    "cv2.waitKey(1)"
   ]
  },
  {
   "cell_type": "code",
   "execution_count": 12,
   "metadata": {},
   "outputs": [
    {
     "data": {
      "text/plain": [
       "-1"
      ]
     },
     "execution_count": 12,
     "metadata": {},
     "output_type": "execute_result"
    }
   ],
   "source": [
    "cv2.destroyAllWindows()\n",
    "cv2.waitKey(1)"
   ]
  },
  {
   "cell_type": "code",
   "execution_count": 5,
   "metadata": {},
   "outputs": [
    {
     "name": "stdout",
     "output_type": "stream",
     "text": [
      "[[164, 273], [255, 205], [256, 357], [349, 270]] [[165, 273], [90, 209], [257, 204], [180, 152]]\n",
      "[ 1.06748776e+03 -4.02133710e+02  1.00000000e+00] [-571.64883268 -355.60700389    1.        ]\n"
     ]
    },
    {
     "data": {
      "text/plain": [
       "-1"
      ]
     },
     "execution_count": 5,
     "metadata": {},
     "output_type": "execute_result"
    }
   ],
   "source": [
    "print list1, list2\n",
    "\n",
    "# This function returns the vanishing line equation\n",
    "def vanishingline(list1, list2):\n",
    "    \n",
    "    # Equation of lines\n",
    "    l1 = np.cross([list1[0][0], list1[0][1], 1], [list1[1][0], list1[1][1], 1])\n",
    "    l2 = np.cross([list1[2][0], list1[2][1], 1], [list1[3][0], list1[3][1], 1])\n",
    "    p1 = np.cross([list2[0][0], list2[0][1], 1], [list2[1][0], list2[1][1], 1])\n",
    "    p2 = np.cross([list2[2][0], list2[2][1], 1], [list2[3][0], list2[3][1], 1])\n",
    "    \n",
    "    temp1 = np.cross(l1,l2)\n",
    "    temp2 = np.cross(p1,p2)\n",
    "    \n",
    "    # Vanishing Points\n",
    "    v1 = temp1/temp1[2]\n",
    "    v2 = temp2/temp2[2]\n",
    "    print v1, v2\n",
    "    \n",
    "    return np.cross(v1, v2)\n",
    "    \n",
    "\n",
    "vLine = vanishingline(list1, list2)\n",
    "\n",
    "# Returns the affine rectification homography matrix\n",
    "def affineHom(line):    \n",
    "    return np.array([[1, 0, 0], [0, 1, 0], [line[0]/line[2], line[1]/line[2], 1]])\n",
    "\n",
    "\n",
    "HomMatrix = np.float32(affineHom(vLine))\n",
    "\n",
    "# # M = cv2.getPerspectiveTransform(pts1,pts2)\n",
    "size = gray.shape\n",
    "sizeNew = (size[1], size[0])\n",
    "AffineRect = cv2.warpPerspective(img,HomMatrix, sizeNew)\n",
    "cv2.imshow(\"Affine Rectification\", AffineRect)\n",
    "cv2.imwrite(\"AffineRectifiedImage.jpg\", AffineRect)\n",
    "cv2.waitKey(500)"
   ]
  },
  {
   "cell_type": "code",
   "execution_count": 9,
   "metadata": {},
   "outputs": [
    {
     "name": "stdout",
     "output_type": "stream",
     "text": [
      "161 128\n",
      "93 154\n",
      "131 178\n",
      "125 104\n",
      "92 83\n",
      "25 108\n"
     ]
    }
   ],
   "source": [
    "# Metric Rectification\n",
    "img = AffineRect\n",
    "gray = cv2.cvtColor(img,cv2.COLOR_BGR2GRAY)\n",
    " \n",
    "# These two lists keep the points for perpendicular lines calculation\n",
    "Mlist1 = []\n",
    "Mlist2 = []\n",
    "checkM = 0\n",
    "\n",
    "def getPointsMetric(event, x, y, flags, params):\n",
    "    \n",
    "    global Mlist1, Mlist2, checkM \n",
    "   \n",
    "    if event == cv2.EVENT_LBUTTONDOWN:\n",
    "        print x,y\n",
    "        if checkM < 3:\n",
    "            Mlist1.append([x, y])\n",
    "            checkM += 1\n",
    "        else:\n",
    "            Mlist2.append([x, y])\n",
    "    elif event == cv2.EVENT_LBUTTONUP:                   \n",
    "        cv2.circle(img,(x,y), 4, (0,255,0), -1)\n",
    "        cv2.imshow(\"image\", img)\n",
    "\n",
    "    \n",
    "cv2.namedWindow(\"image\")\n",
    "cv2.setMouseCallback(\"image\", getPointsMetric)\n",
    "\n",
    "selectPoints()\n",
    "cv2.destroyAllWindows()\n",
    "cv2.waitKey(1)\n",
    "\n",
    "# This function returns the perpendicular lines required for metric rectification\n",
    "def returnPerLines(list1, list2):\n",
    "    \n",
    "    # Equation of lines\n",
    "    l1 = np.cross([list1[0][0], list1[0][1], 1], [list1[1][0], list1[1][1], 1])\n",
    "    m1 = np.cross([list1[2][0], list1[2][1], 1], [list1[1][0], list1[1][1], 1])\n",
    "    \n",
    "    l2 = np.cross([list2[0][0], list2[0][1], 1], [list2[1][0], list2[1][1], 1])\n",
    "    m2 = np.cross([list2[2][0], list2[2][1], 1], [list2[1][0], list2[1][1], 1])\n",
    "\n",
    "    return l1/l1[2], m1/m1[2], l2/l2[2], m2/m2[2]\n",
    "    \n",
    "\n",
    "l1, m1, l2, m2 = returnPerLines(Mlist1, Mlist2)\n",
    "\n"
   ]
  },
  {
   "cell_type": "code",
   "execution_count": 10,
   "metadata": {},
   "outputs": [
    {
     "name": "stdout",
     "output_type": "stream",
     "text": [
      "[[-0.93963559 -0.3421768 ]\n",
      " [-0.3421768   0.93963559]] [3.52652642 0.66495276] [[-0.93963559 -0.3421768 ]\n",
      " [-0.3421768   0.93963559]]\n"
     ]
    }
   ],
   "source": [
    "# This function returns the symmetric matrix\n",
    "def symmetricMatrix(l1, m1, l2, m2):\n",
    "    C = np.array([-l1[1]*m1[1], -l2[1]*m2[1]])\n",
    "    A = np.array([[l1[0]*m1[0], l1[0]*m1[1] + l1[1]*m1[0]], [l2[0]*m2[0], l2[0]*m2[1] + l2[1]*m2[0]]])\n",
    "    \n",
    "    s = np.matmul(np.linalg.inv(A), C)\n",
    "    \n",
    "    # symmetric matrix\n",
    "    sWhole = np.array([[s[0], s[1]], [s[1], 1]])\n",
    "    return sWhole\n",
    "    \n",
    "smatrix = symmetricMatrix(l1, m1, l2, m2)\n",
    "\n",
    "U, D, V = np.linalg.svd(smatrix)\n",
    "print U, D, V"
   ]
  },
  {
   "cell_type": "code",
   "execution_count": 13,
   "metadata": {},
   "outputs": [
    {
     "name": "stdout",
     "output_type": "stream",
     "text": [
      "[[1.75350689 0.34160323 0.        ]\n",
      " [0.34160323 0.93984426 0.        ]]\n"
     ]
    },
    {
     "data": {
      "text/plain": [
       "-1"
      ]
     },
     "execution_count": 13,
     "metadata": {},
     "output_type": "execute_result"
    }
   ],
   "source": [
    "# This function returns the affine homography matrix\n",
    "def affineHom(U, D, V):\n",
    "    Dtemp = np.sqrt(D)\n",
    "    Dfinal = np.array([[Dtemp[0], 0], [0, Dtemp[1]]])\n",
    "    \n",
    "    # The final A matrix\n",
    "    Am = np.matmul(np.matmul(U, Dfinal), V)\n",
    "     \n",
    "    print np.array([[Am[0][0], Am[0][1], 0], [Am[1][0], Am[1][1], 0]])\n",
    "    return np.array([[Am[0][0], Am[0][1], 0], [Am[1][0], Am[1][1], 0], [0, 0, 1]])\n",
    "    \n",
    "    \n",
    "HomAffine = affineHom(U, D, V)\n",
    "InvHomeAffine = np.float32(np.linalg.inv(HomAffine))  \n",
    "\n",
    "MetricRect = cv2.warpPerspective(AffineRect,InvHomeAffine, sizeNew)\n",
    "\n",
    "cv2.imshow(\"Metric Rectification\", MetricRect)\n",
    "cv2.imwrite(\"MetricRectifiedImage.jpg\", MetricRect)\n",
    "cv2.waitKey(500)"
   ]
  },
  {
   "cell_type": "code",
   "execution_count": 14,
   "metadata": {},
   "outputs": [
    {
     "data": {
      "text/plain": [
       "-1"
      ]
     },
     "execution_count": 14,
     "metadata": {},
     "output_type": "execute_result"
    }
   ],
   "source": [
    "cv2.destroyAllWindows()\n",
    "cv2.waitKey(1)"
   ]
  },
  {
   "cell_type": "code",
   "execution_count": null,
   "metadata": {},
   "outputs": [],
   "source": []
  }
 ],
 "metadata": {
  "kernelspec": {
   "display_name": "Python 2",
   "language": "python",
   "name": "python2"
  },
  "language_info": {
   "codemirror_mode": {
    "name": "ipython",
    "version": 2
   },
   "file_extension": ".py",
   "mimetype": "text/x-python",
   "name": "python",
   "nbconvert_exporter": "python",
   "pygments_lexer": "ipython2",
   "version": "2.7.14"
  }
 },
 "nbformat": 4,
 "nbformat_minor": 2
}
